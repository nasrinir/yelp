{
 "cells": [
  {
   "cell_type": "markdown",
   "metadata": {},
   "source": [
    "## Yelp Images"
   ]
  },
  {
   "cell_type": "code",
   "execution_count": 1,
   "metadata": {},
   "outputs": [],
   "source": [
    "#libraries\n",
    "import json\n",
    "import tarfile\n",
    "import pandas as pd\n",
    "import seaborn as sns\n",
    "import matplotlib.pyplot as plt"
   ]
  },
  {
   "cell_type": "code",
   "execution_count": 2,
   "metadata": {},
   "outputs": [],
   "source": [
    "my_tar = tarfile.open('yelp_photos.tar')\n",
    "my_tar.extractall() # specify which folder to extract to\n",
    "my_tar.close()"
   ]
  },
  {
   "cell_type": "code",
   "execution_count": 3,
   "metadata": {},
   "outputs": [
    {
     "data": {
      "text/html": [
       "<div>\n",
       "<style scoped>\n",
       "    .dataframe tbody tr th:only-of-type {\n",
       "        vertical-align: middle;\n",
       "    }\n",
       "\n",
       "    .dataframe tbody tr th {\n",
       "        vertical-align: top;\n",
       "    }\n",
       "\n",
       "    .dataframe thead th {\n",
       "        text-align: right;\n",
       "    }\n",
       "</style>\n",
       "<table border=\"1\" class=\"dataframe\">\n",
       "  <thead>\n",
       "    <tr style=\"text-align: right;\">\n",
       "      <th></th>\n",
       "      <th>business_id</th>\n",
       "      <th>caption</th>\n",
       "      <th>label</th>\n",
       "      <th>photo_id</th>\n",
       "    </tr>\n",
       "  </thead>\n",
       "  <tbody>\n",
       "    <tr>\n",
       "      <th>0</th>\n",
       "      <td>zKZc8GwCaKbACaV0HZAmpg</td>\n",
       "      <td>Clean and simple interior</td>\n",
       "      <td>inside</td>\n",
       "      <td>001kKc6P_rmgaXThAHxEkw</td>\n",
       "    </tr>\n",
       "    <tr>\n",
       "      <th>1</th>\n",
       "      <td>qnZzSC4TKen19Gz9nyKCvw</td>\n",
       "      <td>12oz. Boneless Ribeye | Grilled to perfection ...</td>\n",
       "      <td>food</td>\n",
       "      <td>002gqWfVal1D2DT6oA-bVQ</td>\n",
       "    </tr>\n",
       "    <tr>\n",
       "      <th>2</th>\n",
       "      <td>9km51KaQujxsSgdaG9gYSw</td>\n",
       "      <td>The Most Yummy Tarts: Chantilly, Guava, Salted...</td>\n",
       "      <td>food</td>\n",
       "      <td>002GtTSYyQ4swIZyEnfF5A</td>\n",
       "    </tr>\n",
       "    <tr>\n",
       "      <th>3</th>\n",
       "      <td>Qg9L37JCd-PkcWMj9VAWmw</td>\n",
       "      <td>Dynamic Duo!  Great dance music!</td>\n",
       "      <td>inside</td>\n",
       "      <td>0036yehPJxVwNZDRDYH2jQ</td>\n",
       "    </tr>\n",
       "    <tr>\n",
       "      <th>4</th>\n",
       "      <td>zgQHtqX0gqMw1nlBZl2VnQ</td>\n",
       "      <td></td>\n",
       "      <td>food</td>\n",
       "      <td>003Isvt6NCJ567PdAEwrfA</td>\n",
       "    </tr>\n",
       "  </tbody>\n",
       "</table>\n",
       "</div>"
      ],
      "text/plain": [
       "              business_id                                            caption  \\\n",
       "0  zKZc8GwCaKbACaV0HZAmpg                          Clean and simple interior   \n",
       "1  qnZzSC4TKen19Gz9nyKCvw  12oz. Boneless Ribeye | Grilled to perfection ...   \n",
       "2  9km51KaQujxsSgdaG9gYSw  The Most Yummy Tarts: Chantilly, Guava, Salted...   \n",
       "3  Qg9L37JCd-PkcWMj9VAWmw                   Dynamic Duo!  Great dance music!   \n",
       "4  zgQHtqX0gqMw1nlBZl2VnQ                                                      \n",
       "\n",
       "    label                photo_id  \n",
       "0  inside  001kKc6P_rmgaXThAHxEkw  \n",
       "1    food  002gqWfVal1D2DT6oA-bVQ  \n",
       "2    food  002GtTSYyQ4swIZyEnfF5A  \n",
       "3  inside  0036yehPJxVwNZDRDYH2jQ  \n",
       "4    food  003Isvt6NCJ567PdAEwrfA  "
      ]
     },
     "execution_count": 3,
     "metadata": {},
     "output_type": "execute_result"
    }
   ],
   "source": [
    "# We only use the first 100 data in this assignment\n",
    "users = []\n",
    "with open('photos.json') as fl:\n",
    "    for i, line in enumerate(fl):\n",
    "        users.append(json.loads(line))\n",
    "        if i+1 >= 100:\n",
    "            break\n",
    "df = pd.DataFrame(users)\n",
    "df.head()"
   ]
  },
  {
   "cell_type": "code",
   "execution_count": 4,
   "metadata": {},
   "outputs": [
    {
     "name": "stdout",
     "output_type": "stream",
     "text": [
      "<class 'pandas.core.frame.DataFrame'>\n",
      "RangeIndex: 100 entries, 0 to 99\n",
      "Data columns (total 4 columns):\n",
      "business_id    100 non-null object\n",
      "caption        100 non-null object\n",
      "label          100 non-null object\n",
      "photo_id       100 non-null object\n",
      "dtypes: object(4)\n",
      "memory usage: 3.2+ KB\n"
     ]
    }
   ],
   "source": [
    "df.info()"
   ]
  },
  {
   "cell_type": "code",
   "execution_count": 5,
   "metadata": {},
   "outputs": [
    {
     "data": {
      "text/plain": [
       "['drink', 'food', 'inside', 'outside']"
      ]
     },
     "execution_count": 5,
     "metadata": {},
     "output_type": "execute_result"
    }
   ],
   "source": [
    "label = df['label'] \n",
    "sorted(label.unique())\n",
    "# [1.0, 2.0, 3.0, 4.0, 5.0]"
   ]
  },
  {
   "cell_type": "code",
   "execution_count": 11,
   "metadata": {},
   "outputs": [
    {
     "data": {
      "image/png": "[encoded data removed]",
      "text/plain": [
       "<Figure size 576x288 with 1 Axes>"
      ]
     },
     "metadata": {
      "needs_background": "light"
     },
     "output_type": "display_data"
    }
   ],
   "source": [
    "#Get the distribution of the ratings\n",
    "x=df['label'].value_counts()\n",
    "x=x.sort_index()\n",
    "#plot\n",
    "plt.figure(figsize=(8,4))\n",
    "ax= sns.barplot(x.index, x.values, alpha=0.8)\n",
    "plt.title(\"Label Distribution\")\n",
    "plt.ylabel('# of businesses', fontsize=12)\n",
    "plt.xlabel('Label ', fontsize=12)\n",
    "\n",
    "#adding the text labels\n",
    "rects = ax.patches\n",
    "labels = x.values\n",
    "for rect, label in zip(rects, labels):\n",
    "    height = rect.get_height()\n",
    "\n",
    "\n",
    "plt.show()"
   ]
  },
  {
   "cell_type": "code",
   "execution_count": null,
   "metadata": {},
   "outputs": [],
   "source": []
  }
 ],
 "metadata": {
  "kernelspec": {
   "display_name": "Python 3",
   "language": "python",
   "name": "python3"
  },
  "language_info": {
   "codemirror_mode": {
    "name": "ipython",
    "version": 3
   },
   "file_extension": ".py",
   "mimetype": "text/x-python",
   "name": "python",
   "nbconvert_exporter": "python",
   "pygments_lexer": "ipython3",
   "version": "3.7.3"
  }
 },
 "nbformat": 4,
 "nbformat_minor": 2
}
