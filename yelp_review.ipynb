{
 "cells": [
  {
   "cell_type": "markdown",
   "metadata": {},
   "source": [
    "## Yelp Review\n"
   ]
  },
  {
   "cell_type": "code",
   "execution_count": 1,
   "metadata": {},
   "outputs": [],
   "source": [
    "#libraries\n",
    "import json\n",
    "import tarfile\n",
    "import pandas as pd\n",
    "import seaborn as sns\n",
    "import matplotlib.pyplot as plt"
   ]
  },
  {
   "cell_type": "code",
   "execution_count": 2,
   "metadata": {},
   "outputs": [],
   "source": [
    "import tarfile\n",
    "my_tar = tarfile.open('yelp_dataset.tar')\n",
    "my_tar.extractall('./data') # specify which folder to extract to\n",
    "my_tar.close()"
   ]
  },
  {
   "cell_type": "code",
   "execution_count": 3,
   "metadata": {},
   "outputs": [
    {
     "data": {
      "text/html": [
       "<div>\n",
       "<style scoped>\n",
       "    .dataframe tbody tr th:only-of-type {\n",
       "        vertical-align: middle;\n",
       "    }\n",
       "\n",
       "    .dataframe tbody tr th {\n",
       "        vertical-align: top;\n",
       "    }\n",
       "\n",
       "    .dataframe thead th {\n",
       "        text-align: right;\n",
       "    }\n",
       "</style>\n",
       "<table border=\"1\" class=\"dataframe\">\n",
       "  <thead>\n",
       "    <tr style=\"text-align: right;\">\n",
       "      <th></th>\n",
       "      <th>business_id</th>\n",
       "      <th>cool</th>\n",
       "      <th>date</th>\n",
       "      <th>funny</th>\n",
       "      <th>review_id</th>\n",
       "      <th>stars</th>\n",
       "      <th>text</th>\n",
       "      <th>useful</th>\n",
       "      <th>user_id</th>\n",
       "    </tr>\n",
       "  </thead>\n",
       "  <tbody>\n",
       "    <tr>\n",
       "      <th>0</th>\n",
       "      <td>-MhfebM0QIsKt87iDN-FNw</td>\n",
       "      <td>0</td>\n",
       "      <td>2015-04-15 05:21:16</td>\n",
       "      <td>0</td>\n",
       "      <td>xQY8N_XvtGbearJ5X4QryQ</td>\n",
       "      <td>2.0</td>\n",
       "      <td>As someone who has worked with many museums, I...</td>\n",
       "      <td>5</td>\n",
       "      <td>OwjRMXRC0KyPrIlcjaXeFQ</td>\n",
       "    </tr>\n",
       "    <tr>\n",
       "      <th>1</th>\n",
       "      <td>lbrU8StCq3yDfr-QMnGrmQ</td>\n",
       "      <td>0</td>\n",
       "      <td>2013-12-07 03:16:52</td>\n",
       "      <td>1</td>\n",
       "      <td>UmFMZ8PyXZTY2QcwzsfQYA</td>\n",
       "      <td>1.0</td>\n",
       "      <td>I am actually horrified this place is still in...</td>\n",
       "      <td>1</td>\n",
       "      <td>nIJD_7ZXHq-FX8byPMOkMQ</td>\n",
       "    </tr>\n",
       "    <tr>\n",
       "      <th>2</th>\n",
       "      <td>HQl28KMwrEKHqhFrrDqVNQ</td>\n",
       "      <td>0</td>\n",
       "      <td>2015-12-05 03:18:11</td>\n",
       "      <td>0</td>\n",
       "      <td>LG2ZaYiOgpr2DK_90pYjNw</td>\n",
       "      <td>5.0</td>\n",
       "      <td>I love Deagan's. I do. I really do. The atmosp...</td>\n",
       "      <td>1</td>\n",
       "      <td>V34qejxNsCbcgD8C0HVk-Q</td>\n",
       "    </tr>\n",
       "    <tr>\n",
       "      <th>3</th>\n",
       "      <td>5JxlZaqCnk1MnbgRirs40Q</td>\n",
       "      <td>0</td>\n",
       "      <td>2011-05-27 05:30:52</td>\n",
       "      <td>0</td>\n",
       "      <td>i6g_oA9Yf9Y31qt0wibXpw</td>\n",
       "      <td>1.0</td>\n",
       "      <td>Dismal, lukewarm, defrosted-tasting \"TexMex\" g...</td>\n",
       "      <td>0</td>\n",
       "      <td>ofKDkJKXSKZXu5xJNGiiBQ</td>\n",
       "    </tr>\n",
       "    <tr>\n",
       "      <th>4</th>\n",
       "      <td>IS4cv902ykd8wj1TR0N3-A</td>\n",
       "      <td>0</td>\n",
       "      <td>2017-01-14 21:56:57</td>\n",
       "      <td>0</td>\n",
       "      <td>6TdNDKywdbjoTkizeMce8A</td>\n",
       "      <td>4.0</td>\n",
       "      <td>Oh happy day, finally have a Canes near my cas...</td>\n",
       "      <td>0</td>\n",
       "      <td>UgMW8bLE0QMJDCkQ1Ax5Mg</td>\n",
       "    </tr>\n",
       "  </tbody>\n",
       "</table>\n",
       "</div>"
      ],
      "text/plain": [
       "              business_id  cool                 date  funny  \\\n",
       "0  -MhfebM0QIsKt87iDN-FNw     0  2015-04-15 05:21:16      0   \n",
       "1  lbrU8StCq3yDfr-QMnGrmQ     0  2013-12-07 03:16:52      1   \n",
       "2  HQl28KMwrEKHqhFrrDqVNQ     0  2015-12-05 03:18:11      0   \n",
       "3  5JxlZaqCnk1MnbgRirs40Q     0  2011-05-27 05:30:52      0   \n",
       "4  IS4cv902ykd8wj1TR0N3-A     0  2017-01-14 21:56:57      0   \n",
       "\n",
       "                review_id  stars  \\\n",
       "0  xQY8N_XvtGbearJ5X4QryQ    2.0   \n",
       "1  UmFMZ8PyXZTY2QcwzsfQYA    1.0   \n",
       "2  LG2ZaYiOgpr2DK_90pYjNw    5.0   \n",
       "3  i6g_oA9Yf9Y31qt0wibXpw    1.0   \n",
       "4  6TdNDKywdbjoTkizeMce8A    4.0   \n",
       "\n",
       "                                                text  useful  \\\n",
       "0  As someone who has worked with many museums, I...       5   \n",
       "1  I am actually horrified this place is still in...       1   \n",
       "2  I love Deagan's. I do. I really do. The atmosp...       1   \n",
       "3  Dismal, lukewarm, defrosted-tasting \"TexMex\" g...       0   \n",
       "4  Oh happy day, finally have a Canes near my cas...       0   \n",
       "\n",
       "                  user_id  \n",
       "0  OwjRMXRC0KyPrIlcjaXeFQ  \n",
       "1  nIJD_7ZXHq-FX8byPMOkMQ  \n",
       "2  V34qejxNsCbcgD8C0HVk-Q  \n",
       "3  ofKDkJKXSKZXu5xJNGiiBQ  \n",
       "4  UgMW8bLE0QMJDCkQ1Ax5Mg  "
      ]
     },
     "execution_count": 3,
     "metadata": {},
     "output_type": "execute_result"
    }
   ],
   "source": [
    "# We only use the first 100 data in this assignment\n",
    "users = []\n",
    "with open('yelp_academic_dataset_review.json') as fl:\n",
    "    for i, line in enumerate(fl):\n",
    "        users.append(json.loads(line))\n",
    "        if i+1 >= 100:\n",
    "            break\n",
    "df = pd.DataFrame(users)\n",
    "df.head()"
   ]
  },
  {
   "cell_type": "code",
   "execution_count": 4,
   "metadata": {},
   "outputs": [
    {
     "name": "stdout",
     "output_type": "stream",
     "text": [
      "<class 'pandas.core.frame.DataFrame'>\n",
      "RangeIndex: 100 entries, 0 to 99\n",
      "Data columns (total 9 columns):\n",
      "business_id    100 non-null object\n",
      "cool           100 non-null int64\n",
      "date           100 non-null object\n",
      "funny          100 non-null int64\n",
      "review_id      100 non-null object\n",
      "stars          100 non-null float64\n",
      "text           100 non-null object\n",
      "useful         100 non-null int64\n",
      "user_id        100 non-null object\n",
      "dtypes: float64(1), int64(3), object(5)\n",
      "memory usage: 7.1+ KB\n"
     ]
    }
   ],
   "source": [
    "df.info()"
   ]
  },
  {
   "cell_type": "code",
   "execution_count": 5,
   "metadata": {},
   "outputs": [
    {
     "data": {
      "text/plain": [
       "[0, 1, 2, 3, 4, 5, 19]"
      ]
     },
     "execution_count": 5,
     "metadata": {},
     "output_type": "execute_result"
    }
   ],
   "source": [
    "fun = df['funny'] \n",
    "sorted(fun.unique())\n",
    "# [1.0, 2.0, 3.0, 4.0, 5.0]"
   ]
  },
  {
   "cell_type": "code",
   "execution_count": 16,
   "metadata": {},
   "outputs": [
    {
     "data": {
      "image/png": "[encoded data removed]",
      "text/plain": [
       "<Figure size 576x288 with 1 Axes>"
      ]
     },
     "metadata": {
      "needs_background": "light"
     },
     "output_type": "display_data"
    }
   ],
   "source": [
    "#Get the distribution of the ratings\n",
    "x=df['stars'].value_counts()\n",
    "x=x.sort_index()\n",
    "#plot\n",
    "plt.figure(figsize=(8,4))\n",
    "ax= sns.barplot(x.index, x.values, alpha=0.8)\n",
    "plt.title(\"Star Rating Distribution\")\n",
    "plt.ylabel('# of businesses', fontsize=12)\n",
    "plt.xlabel('Star Ratings ', fontsize=12)\n",
    "\n",
    "#adding the text labels\n",
    "rects = ax.patches\n",
    "labels = x.values\n",
    "for rect, label in zip(rects, labels):\n",
    "    height = rect.get_height()\n",
    "\n",
    "plt.show()"
   ]
  },
  {
   "cell_type": "code",
   "execution_count": 8,
   "metadata": {},
   "outputs": [
    {
     "data": {
      "text/plain": [
       "(array([ 6., 10.,  3.,  7.,  6.,  6.,  6.,  1.,  1.,  5.,  4.,  2.,  3.,\n",
       "         3.,  1.,  2.,  0.,  3.,  3.,  2.,  2.,  1.,  3.,  2.,  3.,  0.,\n",
       "         1.,  1.,  0.,  0.,  1.,  0.,  0.,  0.,  0.,  0.,  2.,  1.,  2.,\n",
       "         1.,  0.,  0.,  0.,  1.,  1.,  0.,  0.,  0.,  0.,  0.,  0.,  0.,\n",
       "         0.,  2.,  0.,  0.,  0.,  0.,  0.,  0.,  0.,  0.,  0.,  0.,  0.,\n",
       "         0.,  0.,  0.,  0.,  1.,  0.,  0.,  0.,  0.,  0.,  0.,  0.,  0.,\n",
       "         0.,  0.,  0.,  0.,  0.,  0.,  0.,  0.,  0.,  0.,  0.,  0.,  0.,\n",
       "         0.,  0.,  0.,  0.,  0.,  0.,  0.,  0.,  1.]),\n",
       " array([  89.  ,  123.11,  157.22,  191.33,  225.44,  259.55,  293.66,\n",
       "         327.77,  361.88,  395.99,  430.1 ,  464.21,  498.32,  532.43,\n",
       "         566.54,  600.65,  634.76,  668.87,  702.98,  737.09,  771.2 ,\n",
       "         805.31,  839.42,  873.53,  907.64,  941.75,  975.86, 1009.97,\n",
       "        1044.08, 1078.19, 1112.3 , 1146.41, 1180.52, 1214.63, 1248.74,\n",
       "        1282.85, 1316.96, 1351.07, 1385.18, 1419.29, 1453.4 , 1487.51,\n",
       "        1521.62, 1555.73, 1589.84, 1623.95, 1658.06, 1692.17, 1726.28,\n",
       "        1760.39, 1794.5 , 1828.61, 1862.72, 1896.83, 1930.94, 1965.05,\n",
       "        1999.16, 2033.27, 2067.38, 2101.49, 2135.6 , 2169.71, 2203.82,\n",
       "        2237.93, 2272.04, 2306.15, 2340.26, 2374.37, 2408.48, 2442.59,\n",
       "        2476.7 , 2510.81, 2544.92, 2579.03, 2613.14, 2647.25, 2681.36,\n",
       "        2715.47, 2749.58, 2783.69, 2817.8 , 2851.91, 2886.02, 2920.13,\n",
       "        2954.24, 2988.35, 3022.46, 3056.57, 3090.68, 3124.79, 3158.9 ,\n",
       "        3193.01, 3227.12, 3261.23, 3295.34, 3329.45, 3363.56, 3397.67,\n",
       "        3431.78, 3465.89, 3500.  ]),\n",
       " <a list of 100 Patch objects>)"
      ]
     },
     "execution_count": 8,
     "metadata": {},
     "output_type": "execute_result"
    },
    {
     "data": {
      "image/png": "[encoded data removed]",
      "text/plain": [
       "<Figure size 432x288 with 1 Axes>"
      ]
     },
     "metadata": {
      "needs_background": "light"
     },
     "output_type": "display_data"
    }
   ],
   "source": [
    "plt.clf() # clear previous figure\n",
    "plt.hist(df['text'].str.len(), bins=100)"
   ]
  },
  {
   "cell_type": "code",
   "execution_count": 9,
   "metadata": {},
   "outputs": [
    {
     "data": {
      "text/html": [
       "<div>\n",
       "<style scoped>\n",
       "    .dataframe tbody tr th:only-of-type {\n",
       "        vertical-align: middle;\n",
       "    }\n",
       "\n",
       "    .dataframe tbody tr th {\n",
       "        vertical-align: top;\n",
       "    }\n",
       "\n",
       "    .dataframe thead th {\n",
       "        text-align: right;\n",
       "    }\n",
       "</style>\n",
       "<table border=\"1\" class=\"dataframe\">\n",
       "  <thead>\n",
       "    <tr style=\"text-align: right;\">\n",
       "      <th></th>\n",
       "      <th>business_id</th>\n",
       "      <th>cool</th>\n",
       "      <th>date</th>\n",
       "      <th>funny</th>\n",
       "      <th>review_id</th>\n",
       "      <th>stars</th>\n",
       "      <th>text</th>\n",
       "      <th>useful</th>\n",
       "      <th>user_id</th>\n",
       "    </tr>\n",
       "  </thead>\n",
       "  <tbody>\n",
       "    <tr>\n",
       "      <th>32</th>\n",
       "      <td>LkMtMHVetws5_7QfRjPtlg</td>\n",
       "      <td>4</td>\n",
       "      <td>2011-01-09 00:09:50</td>\n",
       "      <td>3</td>\n",
       "      <td>NHQWhZve7UEaGLt7IwAyDw</td>\n",
       "      <td>2.0</td>\n",
       "      <td>This actually used to be one of my favorite ho...</td>\n",
       "      <td>5</td>\n",
       "      <td>H3wPBzQCKCKiHcV7GZK4kg</td>\n",
       "    </tr>\n",
       "  </tbody>\n",
       "</table>\n",
       "</div>"
      ],
      "text/plain": [
       "               business_id  cool                 date  funny  \\\n",
       "32  LkMtMHVetws5_7QfRjPtlg     4  2011-01-09 00:09:50      3   \n",
       "\n",
       "                 review_id  stars  \\\n",
       "32  NHQWhZve7UEaGLt7IwAyDw    2.0   \n",
       "\n",
       "                                                 text  useful  \\\n",
       "32  This actually used to be one of my favorite ho...       5   \n",
       "\n",
       "                   user_id  \n",
       "32  H3wPBzQCKCKiHcV7GZK4kg  "
      ]
     },
     "execution_count": 9,
     "metadata": {},
     "output_type": "execute_result"
    }
   ],
   "source": [
    "df.loc[ df['text'].str.len() == df['text'].str.len().max() ]  "
   ]
  },
  {
   "cell_type": "code",
   "execution_count": 10,
   "metadata": {},
   "outputs": [
    {
     "name": "stdout",
     "output_type": "stream",
     "text": [
      "I am actually horrified this place is still in business. My 3 year old son needed a haircut this past summer and the lure of the $7 kids cut signs got me in the door. We had to wait a few minutes as both stylists were working on people. The decor in this place is total garbage. It is so tacky. The sofa they had at the time was a pleather sofa with giant holes in it. And my son noticed ants crawling all over the floor and the furniture. It was disgusting and I should have walked out then. Actually, I should have turned around and walked out upon entering but I didn't. So the older black male stylist finishes the haircut he was doing and it's our turn. I tell him I want a #2 clipper around the back and sides and then hand cut the top into a standard boys cut. Really freaking simple, right? WRONG! Rather than use the clippers and go up to actually cut the hair, he went down. Using it moving downward doesn't cut hair, it just rubs against it. How does this man who has an alleged cosmetology license not know how to use a set of freaking clippers??? I realized almost immediately that he had no idea what he was doing. No idea at all. After about 10 minutes of watching this guy stumble through it, I said \"you know what? That's fine.\", paid and left. All I wanted to do was get out of that scummy joint and take my son to a real haircut place.\n",
      "\n",
      "Bottom line: DO NOT GO HERE. RUN THE OTHER WAY!!!!!\n"
     ]
    }
   ],
   "source": [
    "print(df.loc[1].text)"
   ]
  },
  {
   "cell_type": "code",
   "execution_count": null,
   "metadata": {},
   "outputs": [],
   "source": []
  }
 ],
 "metadata": {
  "kernelspec": {
   "display_name": "Python 3",
   "language": "python",
   "name": "python3"
  },
  "language_info": {
   "codemirror_mode": {
    "name": "ipython",
    "version": 3
   },
   "file_extension": ".py",
   "mimetype": "text/x-python",
   "name": "python",
   "nbconvert_exporter": "python",
   "pygments_lexer": "ipython3",
   "version": "3.7.3"
  }
 },
 "nbformat": 4,
 "nbformat_minor": 2
}
